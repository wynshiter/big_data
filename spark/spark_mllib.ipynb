{
 "cells": [
  {
   "cell_type": "markdown",
   "metadata": {},
   "source": [
    "# 数据导入"
   ]
  },
  {
   "cell_type": "code",
   "execution_count": null,
   "metadata": {},
   "outputs": [],
   "source": [
    "#//导入需要的包\n",
    "from pyspark.ml.feature import PCA \n",
    "from pyspark.sql import Row\n",
    "from pyspark.ml.linalg import Vector,Vectors\n",
    "from pyspark.ml.evaluation import MulticlassClassificationEvaluator\n",
    "from pyspark.ml import Pipeline,PipelineModel\n",
    "from pyspark.ml.feature import IndexToString, StringIndexer, VectorIndexer,HashingTF, Tokenizer\n",
    "from pyspark.ml.classification import LogisticRegression\n",
    "from pyspark.ml.classification import LogisticRegressionModel\n",
    "from pyspark.ml.classification import BinaryLogisticRegressionSummary, LogisticRegression\n",
    "from pyspark.sql import functions\n",
    "from pyspark.ml.tuning import CrossValidator, ParamGridBuilder\n"
   ]
  },
  {
   "cell_type": "markdown",
   "metadata": {},
   "source": [
    "## 基本处理\n",
    "\n",
    "\n",
    "\n",
    "首先对训练集和测试集做一个基本处理，不然会报错：\n",
    "\n",
    "1.去掉测试集首行：|1x3 Cross validator 不然报错\n",
    "ValueError: could not convert string to float: '|1x3 Cross validator'\n",
    "\n",
    "2.获取训练集测试集（需要对测试集进行一下处理，adult.data.txt的标签是>50K和<=50K，\n",
    "而adult.test.txt的标签是>50K.和<=50K.，这里是把adult.test.txt标签的“.”去掉了。另外，确保adult.data.txt和adult.test.txt最后没有多一个空\n",
    "格。）"
   ]
  },
  {
   "cell_type": "code",
   "execution_count": 16,
   "metadata": {},
   "outputs": [
    {
     "name": "stdout",
     "output_type": "stream",
     "text": [
      "Stopped a SparkSession\n"
     ]
    }
   ],
   "source": [
    "import pyspark\n",
    "from pyspark.ml.feature import CountVectorizer\n",
    "from pyspark.context import SparkContext\n",
    "from pyspark.sql.session import SparkSession\n",
    "from pyspark import SparkConf, SparkContext\n",
    "\n",
    "\n",
    "\n",
    "try:\n",
    "    spark.stop()\n",
    "    print(\"Stopped a SparkSession\")\n",
    "except Exception as e:\n",
    "    print(\"No existing SparkSession\")\n",
    "conf = SparkConf().setMaster(\"local\").setAppName(\"My App\")\n",
    "\n",
    "sc = SparkContext(conf = conf)\n",
    "spark = SparkSession(sc)\n"
   ]
  },
  {
   "cell_type": "code",
   "execution_count": 17,
   "metadata": {},
   "outputs": [],
   "source": [
    "def f(x):\n",
    "    rel = {}\n",
    "    rel['features']=Vectors.dense(float(x[0]),float(x[2]),float(x[4]),float(x[10]),float(x[11]),float(x[12]))\n",
    "    rel['label'] = str(x[14])\n",
    "    return rel"
   ]
  },
  {
   "cell_type": "code",
   "execution_count": 18,
   "metadata": {},
   "outputs": [],
   "source": [
    "df = spark.sparkContext.textFile(\"file:///data/season/adult.data.txt\").map(lambda line: line.split(',')).map(lambda p: Row(**f(p))).toDF() "
   ]
  },
  {
   "cell_type": "code",
   "execution_count": 61,
   "metadata": {},
   "outputs": [
    {
     "data": {
      "text/plain": [
       "file:///data/season/adult.data.txt MapPartitionsRDD[14601] at textFile at NativeMethodAccessorImpl.java:0"
      ]
     },
     "execution_count": 61,
     "metadata": {},
     "output_type": "execute_result"
    }
   ],
   "source": [
    "text_rdd = spark.sparkContext.textFile(\"file:///data/season/adult.data.txt\")\n",
    "text_rdd"
   ]
  },
  {
   "cell_type": "code",
   "execution_count": null,
   "metadata": {},
   "outputs": [],
   "source": []
  },
  {
   "cell_type": "code",
   "execution_count": 19,
   "metadata": {},
   "outputs": [],
   "source": [
    "\n",
    "test = spark.sparkContext.textFile(\"file:///data/season//adult.test.txt\").map(lambda line: line.split(',')).map(lambda p: Row(**f(p))).toDF()"
   ]
  },
  {
   "cell_type": "markdown",
   "metadata": {},
   "source": [
    "# 2.进行主成分分析（PCA）\n",
    "对6个连续型的数值型变量进行主成分分析。\n",
    "\n",
    "PCA（主成分分析）是通过正交变换把一组相关变量的观测值转化成一组线性无关的变量值，即主成分的一种方法。\n",
    "PCA通过使用主成分把特征向量投影到低维空间，实现对特征向量的降维。请通过setK()方法将主成分数量设置为3，把连续型的特征向量转化成一个3维的主成分。\n",
    "\n",
    "\n",
    "构建PCA模型，并通过训练集进行主成分分解，然后分别应用到训练集和测试集\n"
   ]
  },
  {
   "cell_type": "code",
   "execution_count": 23,
   "metadata": {},
   "outputs": [],
   "source": [
    "pca = PCA(k=3, inputCol=\"features\", outputCol=\"pcaFeatures\").fit(df)\n"
   ]
  },
  {
   "cell_type": "code",
   "execution_count": 24,
   "metadata": {},
   "outputs": [],
   "source": [
    "result = pca.transform(df)\n",
    "testdata = pca.transform(test)\n"
   ]
  },
  {
   "cell_type": "code",
   "execution_count": 25,
   "metadata": {},
   "outputs": [
    {
     "name": "stdout",
     "output_type": "stream",
     "text": [
      "+------------------------------------+------+-----------------------------------------------------------+\n",
      "|features                            |label |pcaFeatures                                                |\n",
      "+------------------------------------+------+-----------------------------------------------------------+\n",
      "|[39.0,77516.0,13.0,2174.0,0.0,40.0] | <=50K|[77516.06543281932,-2171.6489938846585,-6.946360476597975] |\n",
      "|[50.0,83311.0,13.0,0.0,0.0,13.0]    | <=50K|[83310.99935595779,2.526033892791933,-3.3887024086795283]  |\n",
      "|[38.0,215646.0,9.0,0.0,0.0,40.0]    | <=50K|[215645.99925048652,6.551842584549856,-8.584953969072847]  |\n",
      "|[53.0,234721.0,7.0,0.0,0.0,40.0]    | <=50K|[234720.99907961808,7.130299808617081,-9.36017979080908]   |\n",
      "|[28.0,338409.0,13.0,0.0,0.0,40.0]   | <=50K|[338408.99918830546,10.289249842815364,-13.368251871630113]|\n",
      "|[37.0,284582.0,14.0,0.0,0.0,40.0]   | <=50K|[284581.99916695454,8.649756033709732,-11.281731333792491] |\n",
      "|[49.0,160187.0,5.0,0.0,0.0,16.0]    | <=50K|[160186.9992693704,4.865753721189096,-6.394299355794347]   |\n",
      "|[52.0,209642.0,9.0,0.0,0.0,45.0]    | >50K |[209641.99910851714,6.36645345044601,-8.387055585721857]   |\n",
      "|[31.0,45781.0,14.0,14084.0,0.0,50.0]| >50K |[45781.42721110637,-14082.596953729328,-26.303509105379003]|\n",
      "|[42.0,159449.0,13.0,5178.0,0.0,40.0]| >50K |[159449.15652342225,-5173.151337268416,-15.351831002505733]|\n",
      "|[37.0,280464.0,10.0,0.0,0.0,80.0]   | >50K |[280463.99908861093,8.519356755958588,-11.188000533446628] |\n",
      "|[30.0,141297.0,13.0,0.0,0.0,40.0]   | >50K |[141296.99942061218,4.290098166700636,-5.663113262632122]  |\n",
      "|[23.0,122272.0,13.0,0.0,0.0,30.0]   | <=50K|[122271.99953623723,3.7134109235564052,-4.8875493312795015]|\n",
      "|[32.0,205019.0,12.0,0.0,0.0,50.0]   | <=50K|[205018.99929839544,6.227844686210062,-8.176186180264704]  |\n",
      "|[40.0,121772.0,11.0,0.0,0.0,40.0]   | >50K |[121771.99934864059,3.694528778055735,-4.918583567278202]  |\n",
      "|[34.0,245487.0,4.0,0.0,0.0,45.0]    | <=50K|[245486.99924622502,7.460149417464077,-9.750003242879085]  |\n",
      "|[25.0,176756.0,9.0,0.0,0.0,35.0]    | <=50K|[176755.99943997271,5.370793765350243,-7.029037217536456]  |\n",
      "|[32.0,186824.0,9.0,0.0,0.0,40.0]    | <=50K|[186823.9993467819,5.675541056425563,-7.445605003140791]   |\n",
      "|[38.0,28887.0,7.0,0.0,0.0,50.0]     | <=50K|[28886.999469511487,0.8668334219441145,-1.296992164011339] |\n",
      "|[43.0,292175.0,14.0,0.0,0.0,45.0]   | >50K |[292174.99908683443,8.87932321571835,-11.599483225617142]  |\n",
      "+------------------------------------+------+-----------------------------------------------------------+\n",
      "only showing top 20 rows\n",
      "\n"
     ]
    }
   ],
   "source": [
    "result.show(truncate=False)"
   ]
  },
  {
   "cell_type": "code",
   "execution_count": 26,
   "metadata": {},
   "outputs": [
    {
     "name": "stdout",
     "output_type": "stream",
     "text": [
      "+------------------------------------+------+-----------------------------------------------------------+\n",
      "|features                            |label |pcaFeatures                                                |\n",
      "+------------------------------------+------+-----------------------------------------------------------+\n",
      "|[25.0,226802.0,7.0,0.0,0.0,40.0]    | <=50K|[226801.9993670891,6.8933130423286935,-8.99398382175794]   |\n",
      "|[38.0,89814.0,9.0,0.0,0.0,50.0]     | <=50K|[89813.9993894769,2.720987324477724,-3.6809508659700634]   |\n",
      "|[28.0,336951.0,12.0,0.0,0.0,40.0]   | >50K |[336950.9991912231,10.244920104030937,-13.310695651854761] |\n",
      "|[44.0,160323.0,10.0,7688.0,0.0,40.0]| >50K |[160323.2327290343,-7683.121090489606,-19.729118648468784] |\n",
      "|[18.0,103497.0,10.0,0.0,0.0,30.0]   | <=50K|[103496.99961293538,3.142862309152393,-4.141563083945909]  |\n",
      "|[34.0,198693.0,6.0,0.0,0.0,30.0]    | <=50K|[198692.99933690467,6.037911774656125,-7.894879761308832]  |\n",
      "|[29.0,227026.0,9.0,0.0,0.0,40.0]    | <=50K|[227025.99932507658,6.8994707086741185,-9.011878890809454] |\n",
      "|[63.0,104626.0,15.0,3103.0,0.0,32.0]| >50K |[104626.09338764263,-3099.8250060692026,-9.648800672051616]|\n",
      "|[24.0,369667.0,10.0,0.0,0.0,40.0]   | <=50K|[369666.9991911036,11.241251385615026,-14.581104454202123] |\n",
      "|[55.0,104996.0,4.0,0.0,0.0,10.0]    | <=50K|[104995.99929475832,3.1860507894064556,-4.236895975019399] |\n",
      "|[65.0,184454.0,9.0,6418.0,0.0,40.0] | >50K |[184454.19392400666,-6412.391589847388,-18.51844830726249] |\n",
      "|[36.0,212465.0,13.0,0.0,0.0,40.0]   | <=50K|[212464.99927015402,6.455148844461335,-8.458640605560438]  |\n",
      "|[26.0,82091.0,9.0,0.0,0.0,39.0]     | <=50K|[82090.99954236703,2.4891114096253006,-3.335593188552821]  |\n",
      "|[58.0,299831.0,9.0,0.0,0.0,35.0]    | <=50K|[299830.9989556856,9.111696151566658,-11.909141441346605]  |\n",
      "|[48.0,279724.0,9.0,3103.0,0.0,48.0] | >50K |[279724.09328344715,-3094.4957992963955,-16.49132147415817]|\n",
      "|[43.0,346189.0,14.0,0.0,0.0,50.0]   | >50K |[346188.9990067699,10.522518314322177,-13.720686643181429] |\n",
      "|[20.0,444554.0,10.0,0.0,0.0,25.0]   | <=50K|[444553.9991678727,13.522886896053253,-17.475866214536033] |\n",
      "|[43.0,128354.0,9.0,0.0,0.0,30.0]    | <=50K|[128353.99933456784,3.895809826835966,-5.163630508998317]  |\n",
      "|[37.0,60548.0,9.0,0.0,0.0,20.0]     | <=50K|[60547.99950268138,1.8343884998296225,-2.482228457083525]  |\n",
      "|[40.0,85019.0,16.0,0.0,0.0,45.0]    | >50K |[85018.99937940769,2.5751267063702703,-3.4924978737083374] |\n",
      "+------------------------------------+------+-----------------------------------------------------------+\n",
      "only showing top 20 rows\n",
      "\n"
     ]
    }
   ],
   "source": [
    "testdata.show(truncate=False) "
   ]
  },
  {
   "cell_type": "markdown",
   "metadata": {},
   "source": [
    "# 3.训练分类模型并预测居民收入\n",
    "\n",
    "在主成分分析的基础上，采用逻辑斯蒂回归，或者决策树模型预测居民收入是否超过50K；对Test数据集进行验证。\n",
    "\n",
    "训练逻辑斯蒂回归模型，并进行测试，得到预测准确率\n",
    "\n"
   ]
  },
  {
   "cell_type": "code",
   "execution_count": 28,
   "metadata": {},
   "outputs": [],
   "source": [
    "labelIndexer = StringIndexer(inputCol=\"label\", outputCol=\"indexedLabel\").fit(result)"
   ]
  },
  {
   "cell_type": "code",
   "execution_count": 29,
   "metadata": {},
   "outputs": [
    {
     "name": "stdout",
     "output_type": "stream",
     "text": [
      " <=50K\n",
      " >50K\n"
     ]
    }
   ],
   "source": [
    "for label in labelIndexer.labels:print(label)"
   ]
  },
  {
   "cell_type": "code",
   "execution_count": 30,
   "metadata": {},
   "outputs": [
    {
     "name": "stdout",
     "output_type": "stream",
     "text": [
      "3\n"
     ]
    }
   ],
   "source": [
    "featureIndexer = VectorIndexer(inputCol=\"pcaFeatures\", outputCol=\"indexedFeatures\").fit(result)\n",
    "print(featureIndexer.numFeatures)"
   ]
  },
  {
   "cell_type": "code",
   "execution_count": 31,
   "metadata": {},
   "outputs": [],
   "source": [
    "labelConverter = IndexToString(inputCol=\"prediction\", outputCol=\"predictedLabel\",labels=labelIndexer.labels)"
   ]
  },
  {
   "cell_type": "code",
   "execution_count": 32,
   "metadata": {},
   "outputs": [],
   "source": [
    "lr = LogisticRegression().setLabelCol(\"indexedLabel\").setFeaturesCol(\"indexedFeatures\").setMaxIter(100)"
   ]
  },
  {
   "cell_type": "code",
   "execution_count": 33,
   "metadata": {},
   "outputs": [],
   "source": [
    "lrPipeline = Pipeline().setStages([labelIndexer, featureIndexer, lr, labelConverter])"
   ]
  },
  {
   "cell_type": "code",
   "execution_count": 34,
   "metadata": {},
   "outputs": [
    {
     "name": "stdout",
     "output_type": "stream",
     "text": [
      "Coefficients: \n",
      " DenseMatrix([[-1.98285864e-07, -3.50909247e-04, -8.45150628e-04]])\n",
      "\n",
      "Intercept: [-1.4525982557843347]\n",
      " numClasses: 2\n",
      " numFeatures: 3\n"
     ]
    }
   ],
   "source": [
    "lrPipelineModel = lrPipeline.fit(result)\n",
    "lrModel = lrPipelineModel.stages[2]\n",
    "print (\"Coefficients: \\n \" + str(lrModel.coefficientMatrix)+\"\\nIntercept: \"+str(lrModel.interceptVector)+ \"\\n numClasses: \"+str(lrModel.numClasses)+\"\\n numFeatures: \"+str(lrModel.numFeatures))\n"
   ]
  },
  {
   "cell_type": "code",
   "execution_count": 40,
   "metadata": {},
   "outputs": [
    {
     "data": {
      "text/plain": [
       "DataFrame[features: vector, label: string, pcaFeatures: vector, indexedLabel: double, indexedFeatures: vector, rawPrediction: vector, probability: vector, prediction: double, predictedLabel: string]"
      ]
     },
     "execution_count": 40,
     "metadata": {},
     "output_type": "execute_result"
    }
   ],
   "source": [
    "lrPredictions = lrPipelineModel.transform(testdata)\n",
    "lrPredictions"
   ]
  },
  {
   "cell_type": "code",
   "execution_count": 41,
   "metadata": {},
   "outputs": [
    {
     "data": {
      "text/plain": [
       "MulticlassClassificationEvaluator_c2198bf9aaa6"
      ]
     },
     "execution_count": 41,
     "metadata": {},
     "output_type": "execute_result"
    }
   ],
   "source": [
    "evaluator = MulticlassClassificationEvaluator().setLabelCol(\"indexedLabel\").setPredictionCol(\"prediction\")\n",
    "evaluator"
   ]
  },
  {
   "cell_type": "code",
   "execution_count": 42,
   "metadata": {},
   "outputs": [
    {
     "data": {
      "text/plain": [
       "0.7764235163053484"
      ]
     },
     "execution_count": 42,
     "metadata": {},
     "output_type": "execute_result"
    }
   ],
   "source": [
    "lrAccuracy = evaluator.evaluate(lrPredictions)\n",
    "lrAccuracy"
   ]
  },
  {
   "cell_type": "code",
   "execution_count": 39,
   "metadata": {},
   "outputs": [
    {
     "name": "stdout",
     "output_type": "stream",
     "text": [
      "Test Error = 0.223576 \n"
     ]
    }
   ],
   "source": [
    "print(\"Test Error = %g \" % (1.0 - lrAccuracy))"
   ]
  },
  {
   "cell_type": "code",
   "execution_count": null,
   "metadata": {},
   "outputs": [],
   "source": []
  },
  {
   "cell_type": "code",
   "execution_count": null,
   "metadata": {},
   "outputs": [],
   "source": []
  },
  {
   "cell_type": "markdown",
   "metadata": {},
   "source": [
    "# 4.超参数调优\n",
    "利用CrossValidator确定最优的参数，包括最优主成分PCA的维数、分类器自身的参数等。\n",
    "\n",
    "\n"
   ]
  },
  {
   "cell_type": "code",
   "execution_count": 43,
   "metadata": {},
   "outputs": [],
   "source": [
    "pca = PCA().setInputCol(\"features\").setOutputCol(\"pcaFeatures\")"
   ]
  },
  {
   "cell_type": "code",
   "execution_count": 44,
   "metadata": {},
   "outputs": [
    {
     "data": {
      "text/plain": [
       "StringIndexerModel: uid=StringIndexer_20711d1a8681, handleInvalid=error"
      ]
     },
     "execution_count": 44,
     "metadata": {},
     "output_type": "execute_result"
    }
   ],
   "source": [
    "labelIndexer = StringIndexer().setInputCol(\"label\").setOutputCol(\"indexedLabel\").fit(df)\n",
    "labelIndexer"
   ]
  },
  {
   "cell_type": "code",
   "execution_count": 45,
   "metadata": {},
   "outputs": [
    {
     "data": {
      "text/plain": [
       "VectorIndexer_f390a1647067"
      ]
     },
     "execution_count": 45,
     "metadata": {},
     "output_type": "execute_result"
    }
   ],
   "source": [
    "featureIndexer = VectorIndexer().setInputCol(\"pcaFeatures\").setOutputCol(\"indexedFeatures\")\n",
    "featureIndexer"
   ]
  },
  {
   "cell_type": "code",
   "execution_count": 46,
   "metadata": {},
   "outputs": [
    {
     "data": {
      "text/plain": [
       "IndexToString_55acf7adaf58"
      ]
     },
     "execution_count": 46,
     "metadata": {},
     "output_type": "execute_result"
    }
   ],
   "source": [
    "labelConverter = IndexToString().setInputCol(\"prediction\").setOutputCol(\"predictedLabel\").setLabels(labelIndexer.labels)\n",
    "labelConverter"
   ]
  },
  {
   "cell_type": "code",
   "execution_count": 47,
   "metadata": {},
   "outputs": [
    {
     "data": {
      "text/plain": [
       "LogisticRegression_9e679e254021"
      ]
     },
     "execution_count": 47,
     "metadata": {},
     "output_type": "execute_result"
    }
   ],
   "source": [
    "lr = LogisticRegression().setLabelCol(\"indexedLabel\").setFeaturesCol(\"indexedFeatures\").setMaxIter(100)\n",
    "lr"
   ]
  },
  {
   "cell_type": "code",
   "execution_count": 48,
   "metadata": {},
   "outputs": [
    {
     "data": {
      "text/plain": [
       "Pipeline_426c31bb86ff"
      ]
     },
     "execution_count": 48,
     "metadata": {},
     "output_type": "execute_result"
    }
   ],
   "source": [
    "lrPipeline = Pipeline().setStages([pca, labelIndexer, featureIndexer, lr, labelConverter])\n",
    "lrPipeline"
   ]
  },
  {
   "cell_type": "code",
   "execution_count": 49,
   "metadata": {},
   "outputs": [
    {
     "data": {
      "text/plain": [
       "[{Param(parent='PCA_572e915517ec', name='k', doc='the number of principal components'): 1,\n",
       "  Param(parent='LogisticRegression_9e679e254021', name='elasticNetParam', doc='the ElasticNet mixing parameter, in range [0, 1]. For alpha = 0, the penalty is an L2 penalty. For alpha = 1, it is an L1 penalty.'): 0.2,\n",
       "  Param(parent='LogisticRegression_9e679e254021', name='regParam', doc='regularization parameter (>= 0).'): 0.01},\n",
       " {Param(parent='PCA_572e915517ec', name='k', doc='the number of principal components'): 1,\n",
       "  Param(parent='LogisticRegression_9e679e254021', name='elasticNetParam', doc='the ElasticNet mixing parameter, in range [0, 1]. For alpha = 0, the penalty is an L2 penalty. For alpha = 1, it is an L1 penalty.'): 0.2,\n",
       "  Param(parent='LogisticRegression_9e679e254021', name='regParam', doc='regularization parameter (>= 0).'): 0.1},\n",
       " {Param(parent='PCA_572e915517ec', name='k', doc='the number of principal components'): 1,\n",
       "  Param(parent='LogisticRegression_9e679e254021', name='elasticNetParam', doc='the ElasticNet mixing parameter, in range [0, 1]. For alpha = 0, the penalty is an L2 penalty. For alpha = 1, it is an L1 penalty.'): 0.2,\n",
       "  Param(parent='LogisticRegression_9e679e254021', name='regParam', doc='regularization parameter (>= 0).'): 0.5},\n",
       " {Param(parent='PCA_572e915517ec', name='k', doc='the number of principal components'): 1,\n",
       "  Param(parent='LogisticRegression_9e679e254021', name='elasticNetParam', doc='the ElasticNet mixing parameter, in range [0, 1]. For alpha = 0, the penalty is an L2 penalty. For alpha = 1, it is an L1 penalty.'): 0.8,\n",
       "  Param(parent='LogisticRegression_9e679e254021', name='regParam', doc='regularization parameter (>= 0).'): 0.01},\n",
       " {Param(parent='PCA_572e915517ec', name='k', doc='the number of principal components'): 1,\n",
       "  Param(parent='LogisticRegression_9e679e254021', name='elasticNetParam', doc='the ElasticNet mixing parameter, in range [0, 1]. For alpha = 0, the penalty is an L2 penalty. For alpha = 1, it is an L1 penalty.'): 0.8,\n",
       "  Param(parent='LogisticRegression_9e679e254021', name='regParam', doc='regularization parameter (>= 0).'): 0.1},\n",
       " {Param(parent='PCA_572e915517ec', name='k', doc='the number of principal components'): 1,\n",
       "  Param(parent='LogisticRegression_9e679e254021', name='elasticNetParam', doc='the ElasticNet mixing parameter, in range [0, 1]. For alpha = 0, the penalty is an L2 penalty. For alpha = 1, it is an L1 penalty.'): 0.8,\n",
       "  Param(parent='LogisticRegression_9e679e254021', name='regParam', doc='regularization parameter (>= 0).'): 0.5},\n",
       " {Param(parent='PCA_572e915517ec', name='k', doc='the number of principal components'): 2,\n",
       "  Param(parent='LogisticRegression_9e679e254021', name='elasticNetParam', doc='the ElasticNet mixing parameter, in range [0, 1]. For alpha = 0, the penalty is an L2 penalty. For alpha = 1, it is an L1 penalty.'): 0.2,\n",
       "  Param(parent='LogisticRegression_9e679e254021', name='regParam', doc='regularization parameter (>= 0).'): 0.01},\n",
       " {Param(parent='PCA_572e915517ec', name='k', doc='the number of principal components'): 2,\n",
       "  Param(parent='LogisticRegression_9e679e254021', name='elasticNetParam', doc='the ElasticNet mixing parameter, in range [0, 1]. For alpha = 0, the penalty is an L2 penalty. For alpha = 1, it is an L1 penalty.'): 0.2,\n",
       "  Param(parent='LogisticRegression_9e679e254021', name='regParam', doc='regularization parameter (>= 0).'): 0.1},\n",
       " {Param(parent='PCA_572e915517ec', name='k', doc='the number of principal components'): 2,\n",
       "  Param(parent='LogisticRegression_9e679e254021', name='elasticNetParam', doc='the ElasticNet mixing parameter, in range [0, 1]. For alpha = 0, the penalty is an L2 penalty. For alpha = 1, it is an L1 penalty.'): 0.2,\n",
       "  Param(parent='LogisticRegression_9e679e254021', name='regParam', doc='regularization parameter (>= 0).'): 0.5},\n",
       " {Param(parent='PCA_572e915517ec', name='k', doc='the number of principal components'): 2,\n",
       "  Param(parent='LogisticRegression_9e679e254021', name='elasticNetParam', doc='the ElasticNet mixing parameter, in range [0, 1]. For alpha = 0, the penalty is an L2 penalty. For alpha = 1, it is an L1 penalty.'): 0.8,\n",
       "  Param(parent='LogisticRegression_9e679e254021', name='regParam', doc='regularization parameter (>= 0).'): 0.01},\n",
       " {Param(parent='PCA_572e915517ec', name='k', doc='the number of principal components'): 2,\n",
       "  Param(parent='LogisticRegression_9e679e254021', name='elasticNetParam', doc='the ElasticNet mixing parameter, in range [0, 1]. For alpha = 0, the penalty is an L2 penalty. For alpha = 1, it is an L1 penalty.'): 0.8,\n",
       "  Param(parent='LogisticRegression_9e679e254021', name='regParam', doc='regularization parameter (>= 0).'): 0.1},\n",
       " {Param(parent='PCA_572e915517ec', name='k', doc='the number of principal components'): 2,\n",
       "  Param(parent='LogisticRegression_9e679e254021', name='elasticNetParam', doc='the ElasticNet mixing parameter, in range [0, 1]. For alpha = 0, the penalty is an L2 penalty. For alpha = 1, it is an L1 penalty.'): 0.8,\n",
       "  Param(parent='LogisticRegression_9e679e254021', name='regParam', doc='regularization parameter (>= 0).'): 0.5},\n",
       " {Param(parent='PCA_572e915517ec', name='k', doc='the number of principal components'): 3,\n",
       "  Param(parent='LogisticRegression_9e679e254021', name='elasticNetParam', doc='the ElasticNet mixing parameter, in range [0, 1]. For alpha = 0, the penalty is an L2 penalty. For alpha = 1, it is an L1 penalty.'): 0.2,\n",
       "  Param(parent='LogisticRegression_9e679e254021', name='regParam', doc='regularization parameter (>= 0).'): 0.01},\n",
       " {Param(parent='PCA_572e915517ec', name='k', doc='the number of principal components'): 3,\n",
       "  Param(parent='LogisticRegression_9e679e254021', name='elasticNetParam', doc='the ElasticNet mixing parameter, in range [0, 1]. For alpha = 0, the penalty is an L2 penalty. For alpha = 1, it is an L1 penalty.'): 0.2,\n",
       "  Param(parent='LogisticRegression_9e679e254021', name='regParam', doc='regularization parameter (>= 0).'): 0.1},\n",
       " {Param(parent='PCA_572e915517ec', name='k', doc='the number of principal components'): 3,\n",
       "  Param(parent='LogisticRegression_9e679e254021', name='elasticNetParam', doc='the ElasticNet mixing parameter, in range [0, 1]. For alpha = 0, the penalty is an L2 penalty. For alpha = 1, it is an L1 penalty.'): 0.2,\n",
       "  Param(parent='LogisticRegression_9e679e254021', name='regParam', doc='regularization parameter (>= 0).'): 0.5},\n",
       " {Param(parent='PCA_572e915517ec', name='k', doc='the number of principal components'): 3,\n",
       "  Param(parent='LogisticRegression_9e679e254021', name='elasticNetParam', doc='the ElasticNet mixing parameter, in range [0, 1]. For alpha = 0, the penalty is an L2 penalty. For alpha = 1, it is an L1 penalty.'): 0.8,\n",
       "  Param(parent='LogisticRegression_9e679e254021', name='regParam', doc='regularization parameter (>= 0).'): 0.01},\n",
       " {Param(parent='PCA_572e915517ec', name='k', doc='the number of principal components'): 3,\n",
       "  Param(parent='LogisticRegression_9e679e254021', name='elasticNetParam', doc='the ElasticNet mixing parameter, in range [0, 1]. For alpha = 0, the penalty is an L2 penalty. For alpha = 1, it is an L1 penalty.'): 0.8,\n",
       "  Param(parent='LogisticRegression_9e679e254021', name='regParam', doc='regularization parameter (>= 0).'): 0.1},\n",
       " {Param(parent='PCA_572e915517ec', name='k', doc='the number of principal components'): 3,\n",
       "  Param(parent='LogisticRegression_9e679e254021', name='elasticNetParam', doc='the ElasticNet mixing parameter, in range [0, 1]. For alpha = 0, the penalty is an L2 penalty. For alpha = 1, it is an L1 penalty.'): 0.8,\n",
       "  Param(parent='LogisticRegression_9e679e254021', name='regParam', doc='regularization parameter (>= 0).'): 0.5},\n",
       " {Param(parent='PCA_572e915517ec', name='k', doc='the number of principal components'): 4,\n",
       "  Param(parent='LogisticRegression_9e679e254021', name='elasticNetParam', doc='the ElasticNet mixing parameter, in range [0, 1]. For alpha = 0, the penalty is an L2 penalty. For alpha = 1, it is an L1 penalty.'): 0.2,\n",
       "  Param(parent='LogisticRegression_9e679e254021', name='regParam', doc='regularization parameter (>= 0).'): 0.01},\n",
       " {Param(parent='PCA_572e915517ec', name='k', doc='the number of principal components'): 4,\n",
       "  Param(parent='LogisticRegression_9e679e254021', name='elasticNetParam', doc='the ElasticNet mixing parameter, in range [0, 1]. For alpha = 0, the penalty is an L2 penalty. For alpha = 1, it is an L1 penalty.'): 0.2,\n",
       "  Param(parent='LogisticRegression_9e679e254021', name='regParam', doc='regularization parameter (>= 0).'): 0.1},\n",
       " {Param(parent='PCA_572e915517ec', name='k', doc='the number of principal components'): 4,\n",
       "  Param(parent='LogisticRegression_9e679e254021', name='elasticNetParam', doc='the ElasticNet mixing parameter, in range [0, 1]. For alpha = 0, the penalty is an L2 penalty. For alpha = 1, it is an L1 penalty.'): 0.2,\n",
       "  Param(parent='LogisticRegression_9e679e254021', name='regParam', doc='regularization parameter (>= 0).'): 0.5},\n",
       " {Param(parent='PCA_572e915517ec', name='k', doc='the number of principal components'): 4,\n",
       "  Param(parent='LogisticRegression_9e679e254021', name='elasticNetParam', doc='the ElasticNet mixing parameter, in range [0, 1]. For alpha = 0, the penalty is an L2 penalty. For alpha = 1, it is an L1 penalty.'): 0.8,\n",
       "  Param(parent='LogisticRegression_9e679e254021', name='regParam', doc='regularization parameter (>= 0).'): 0.01},\n",
       " {Param(parent='PCA_572e915517ec', name='k', doc='the number of principal components'): 4,\n",
       "  Param(parent='LogisticRegression_9e679e254021', name='elasticNetParam', doc='the ElasticNet mixing parameter, in range [0, 1]. For alpha = 0, the penalty is an L2 penalty. For alpha = 1, it is an L1 penalty.'): 0.8,\n",
       "  Param(parent='LogisticRegression_9e679e254021', name='regParam', doc='regularization parameter (>= 0).'): 0.1},\n",
       " {Param(parent='PCA_572e915517ec', name='k', doc='the number of principal components'): 4,\n",
       "  Param(parent='LogisticRegression_9e679e254021', name='elasticNetParam', doc='the ElasticNet mixing parameter, in range [0, 1]. For alpha = 0, the penalty is an L2 penalty. For alpha = 1, it is an L1 penalty.'): 0.8,\n",
       "  Param(parent='LogisticRegression_9e679e254021', name='regParam', doc='regularization parameter (>= 0).'): 0.5},\n",
       " {Param(parent='PCA_572e915517ec', name='k', doc='the number of principal components'): 5,\n",
       "  Param(parent='LogisticRegression_9e679e254021', name='elasticNetParam', doc='the ElasticNet mixing parameter, in range [0, 1]. For alpha = 0, the penalty is an L2 penalty. For alpha = 1, it is an L1 penalty.'): 0.2,\n",
       "  Param(parent='LogisticRegression_9e679e254021', name='regParam', doc='regularization parameter (>= 0).'): 0.01},\n",
       " {Param(parent='PCA_572e915517ec', name='k', doc='the number of principal components'): 5,\n",
       "  Param(parent='LogisticRegression_9e679e254021', name='elasticNetParam', doc='the ElasticNet mixing parameter, in range [0, 1]. For alpha = 0, the penalty is an L2 penalty. For alpha = 1, it is an L1 penalty.'): 0.2,\n",
       "  Param(parent='LogisticRegression_9e679e254021', name='regParam', doc='regularization parameter (>= 0).'): 0.1},\n",
       " {Param(parent='PCA_572e915517ec', name='k', doc='the number of principal components'): 5,\n",
       "  Param(parent='LogisticRegression_9e679e254021', name='elasticNetParam', doc='the ElasticNet mixing parameter, in range [0, 1]. For alpha = 0, the penalty is an L2 penalty. For alpha = 1, it is an L1 penalty.'): 0.2,\n",
       "  Param(parent='LogisticRegression_9e679e254021', name='regParam', doc='regularization parameter (>= 0).'): 0.5},\n",
       " {Param(parent='PCA_572e915517ec', name='k', doc='the number of principal components'): 5,\n",
       "  Param(parent='LogisticRegression_9e679e254021', name='elasticNetParam', doc='the ElasticNet mixing parameter, in range [0, 1]. For alpha = 0, the penalty is an L2 penalty. For alpha = 1, it is an L1 penalty.'): 0.8,\n",
       "  Param(parent='LogisticRegression_9e679e254021', name='regParam', doc='regularization parameter (>= 0).'): 0.01},\n",
       " {Param(parent='PCA_572e915517ec', name='k', doc='the number of principal components'): 5,\n",
       "  Param(parent='LogisticRegression_9e679e254021', name='elasticNetParam', doc='the ElasticNet mixing parameter, in range [0, 1]. For alpha = 0, the penalty is an L2 penalty. For alpha = 1, it is an L1 penalty.'): 0.8,\n",
       "  Param(parent='LogisticRegression_9e679e254021', name='regParam', doc='regularization parameter (>= 0).'): 0.1},\n",
       " {Param(parent='PCA_572e915517ec', name='k', doc='the number of principal components'): 5,\n",
       "  Param(parent='LogisticRegression_9e679e254021', name='elasticNetParam', doc='the ElasticNet mixing parameter, in range [0, 1]. For alpha = 0, the penalty is an L2 penalty. For alpha = 1, it is an L1 penalty.'): 0.8,\n",
       "  Param(parent='LogisticRegression_9e679e254021', name='regParam', doc='regularization parameter (>= 0).'): 0.5},\n",
       " {Param(parent='PCA_572e915517ec', name='k', doc='the number of principal components'): 6,\n",
       "  Param(parent='LogisticRegression_9e679e254021', name='elasticNetParam', doc='the ElasticNet mixing parameter, in range [0, 1]. For alpha = 0, the penalty is an L2 penalty. For alpha = 1, it is an L1 penalty.'): 0.2,\n",
       "  Param(parent='LogisticRegression_9e679e254021', name='regParam', doc='regularization parameter (>= 0).'): 0.01},\n",
       " {Param(parent='PCA_572e915517ec', name='k', doc='the number of principal components'): 6,\n",
       "  Param(parent='LogisticRegression_9e679e254021', name='elasticNetParam', doc='the ElasticNet mixing parameter, in range [0, 1]. For alpha = 0, the penalty is an L2 penalty. For alpha = 1, it is an L1 penalty.'): 0.2,\n",
       "  Param(parent='LogisticRegression_9e679e254021', name='regParam', doc='regularization parameter (>= 0).'): 0.1},\n",
       " {Param(parent='PCA_572e915517ec', name='k', doc='the number of principal components'): 6,\n",
       "  Param(parent='LogisticRegression_9e679e254021', name='elasticNetParam', doc='the ElasticNet mixing parameter, in range [0, 1]. For alpha = 0, the penalty is an L2 penalty. For alpha = 1, it is an L1 penalty.'): 0.2,\n",
       "  Param(parent='LogisticRegression_9e679e254021', name='regParam', doc='regularization parameter (>= 0).'): 0.5},\n",
       " {Param(parent='PCA_572e915517ec', name='k', doc='the number of principal components'): 6,\n",
       "  Param(parent='LogisticRegression_9e679e254021', name='elasticNetParam', doc='the ElasticNet mixing parameter, in range [0, 1]. For alpha = 0, the penalty is an L2 penalty. For alpha = 1, it is an L1 penalty.'): 0.8,\n",
       "  Param(parent='LogisticRegression_9e679e254021', name='regParam', doc='regularization parameter (>= 0).'): 0.01},\n",
       " {Param(parent='PCA_572e915517ec', name='k', doc='the number of principal components'): 6,\n",
       "  Param(parent='LogisticRegression_9e679e254021', name='elasticNetParam', doc='the ElasticNet mixing parameter, in range [0, 1]. For alpha = 0, the penalty is an L2 penalty. For alpha = 1, it is an L1 penalty.'): 0.8,\n",
       "  Param(parent='LogisticRegression_9e679e254021', name='regParam', doc='regularization parameter (>= 0).'): 0.1},\n",
       " {Param(parent='PCA_572e915517ec', name='k', doc='the number of principal components'): 6,\n",
       "  Param(parent='LogisticRegression_9e679e254021', name='elasticNetParam', doc='the ElasticNet mixing parameter, in range [0, 1]. For alpha = 0, the penalty is an L2 penalty. For alpha = 1, it is an L1 penalty.'): 0.8,\n",
       "  Param(parent='LogisticRegression_9e679e254021', name='regParam', doc='regularization parameter (>= 0).'): 0.5}]"
      ]
     },
     "execution_count": 49,
     "metadata": {},
     "output_type": "execute_result"
    }
   ],
   "source": [
    "paramGrid = ParamGridBuilder().addGrid(pca.k, [1,2,3,4,5,6]).addGrid(lr.elasticNetParam, [0.2,0.8]).addGrid(lr.regParam, [0.01, 0.1, 0.5]).build()\n",
    "paramGrid"
   ]
  },
  {
   "cell_type": "code",
   "execution_count": 50,
   "metadata": {},
   "outputs": [
    {
     "data": {
      "text/plain": [
       "CrossValidator_92dee98a02a6"
      ]
     },
     "execution_count": 50,
     "metadata": {},
     "output_type": "execute_result"
    }
   ],
   "source": [
    "cv = CrossValidator().setEstimator(lrPipeline).setEvaluator(MulticlassClassificationEvaluator().setLabelCol(\"indexedLabel\").setPredictionCol(\"prediction\")).setEstimatorParamMaps(paramGrid).setNumFolds(3)\n",
    "cv\n",
    "\n"
   ]
  },
  {
   "cell_type": "code",
   "execution_count": 51,
   "metadata": {},
   "outputs": [
    {
     "data": {
      "text/plain": [
       "CrossValidatorModel_7e4491e29333"
      ]
     },
     "execution_count": 51,
     "metadata": {},
     "output_type": "execute_result"
    }
   ],
   "source": [
    "cvModel = cv.fit(df)\n",
    "cvModel"
   ]
  },
  {
   "cell_type": "code",
   "execution_count": 52,
   "metadata": {},
   "outputs": [
    {
     "data": {
      "text/plain": [
       "DataFrame[features: vector, label: string, pcaFeatures: vector, indexedLabel: double, indexedFeatures: vector, rawPrediction: vector, probability: vector, prediction: double, predictedLabel: string]"
      ]
     },
     "execution_count": 52,
     "metadata": {},
     "output_type": "execute_result"
    }
   ],
   "source": [
    "lrPredictions=cvModel.transform(test)\n",
    "lrPredictions"
   ]
  },
  {
   "cell_type": "code",
   "execution_count": 53,
   "metadata": {},
   "outputs": [
    {
     "data": {
      "text/plain": [
       "MulticlassClassificationEvaluator_eed2d879befc"
      ]
     },
     "execution_count": 53,
     "metadata": {},
     "output_type": "execute_result"
    }
   ],
   "source": [
    "evaluator = MulticlassClassificationEvaluator().setLabelCol(\"indexedLabel\").setPredictionCol(\"prediction\")\n",
    "evaluator"
   ]
  },
  {
   "cell_type": "code",
   "execution_count": 54,
   "metadata": {},
   "outputs": [
    {
     "data": {
      "text/plain": [
       "0.7833268290041506"
      ]
     },
     "execution_count": 54,
     "metadata": {},
     "output_type": "execute_result"
    }
   ],
   "source": [
    "lrAccuracy = evaluator.evaluate(lrPredictions)\n",
    "lrAccuracy"
   ]
  },
  {
   "cell_type": "code",
   "execution_count": 60,
   "metadata": {},
   "outputs": [
    {
     "name": "stdout",
     "output_type": "stream",
     "text": [
      "准确率为0.7833268290041506\n"
     ]
    }
   ],
   "source": [
    "print(\"准确率为\"+str(lrAccuracy))"
   ]
  },
  {
   "cell_type": "code",
   "execution_count": 55,
   "metadata": {},
   "outputs": [
    {
     "data": {
      "text/plain": [
       "PipelineModel_1f7cee47b3d4"
      ]
     },
     "execution_count": 55,
     "metadata": {},
     "output_type": "execute_result"
    }
   ],
   "source": [
    "bestModel= cvModel.bestModel\n",
    "bestModel"
   ]
  },
  {
   "cell_type": "code",
   "execution_count": 56,
   "metadata": {},
   "outputs": [
    {
     "data": {
      "text/plain": [
       "LogisticRegressionModel: uid=LogisticRegression_9e679e254021, numClasses=2, numFeatures=6"
      ]
     },
     "execution_count": 56,
     "metadata": {},
     "output_type": "execute_result"
    }
   ],
   "source": [
    "lrModel = bestModel.stages[3]\n",
    "lrModel"
   ]
  },
  {
   "cell_type": "code",
   "execution_count": 57,
   "metadata": {},
   "outputs": [
    {
     "name": "stdout",
     "output_type": "stream",
     "text": [
      "Coefficients: \n",
      " DenseMatrix([[-1.50035172e-07, -1.68933655e-04, -8.83869475e-04,\n",
      "               4.92262006e-02,  3.10992712e-02, -2.81742804e-01]])\n",
      "Intercept: [-7.459195847829065]\n",
      " numClasses: 2\n",
      " numFeatures: 6\n"
     ]
    }
   ],
   "source": [
    "print (\"Coefficients: \\n \" + str(lrModel.coefficientMatrix)+\"\\nIntercept: \"+str(lrModel.interceptVector)+ \"\\n numClasses: \"+str(lrModel.numClasses)+\"\\n numFeatures: \"+str(lrModel.numFeatures))"
   ]
  },
  {
   "cell_type": "code",
   "execution_count": 58,
   "metadata": {},
   "outputs": [
    {
     "data": {
      "text/plain": [
       "PCAModel: uid=PCA_572e915517ec, k=6"
      ]
     },
     "execution_count": 58,
     "metadata": {},
     "output_type": "execute_result"
    }
   ],
   "source": [
    "pcaModel = bestModel.stages[0]\n",
    "pcaModel"
   ]
  },
  {
   "cell_type": "code",
   "execution_count": 59,
   "metadata": {},
   "outputs": [
    {
     "name": "stdout",
     "output_type": "stream",
     "text": [
      "Primary Component: DenseMatrix([[-9.90507714e-06, -1.43514070e-04, -2.01710563e-03,\n",
      "               9.62889111e-01, -2.69881464e-01,  2.11340373e-03],\n",
      "             [ 9.99999999e-01,  3.04337871e-05, -3.91106215e-05,\n",
      "               1.00509067e-05, -5.73044237e-07, -9.50170012e-07],\n",
      "             [-1.05283840e-06, -4.27228452e-05, -5.32933664e-04,\n",
      "               9.87277274e-03,  2.74007689e-02, -9.99575630e-01],\n",
      "             [ 3.03678811e-05, -9.99998483e-01, -1.72935042e-03,\n",
      "              -1.78145850e-04, -9.05936805e-05,  3.94199762e-05],\n",
      "             [-3.91389877e-05,  1.72989546e-03, -9.99994820e-01,\n",
      "              -2.41554925e-03, -1.14142219e-03,  4.77935846e-04],\n",
      "             [-2.19555372e-06, -1.31095844e-04, -1.73646184e-03,\n",
      "               2.69705807e-01,  9.62502926e-01,  2.90493230e-02]])\n"
     ]
    }
   ],
   "source": [
    "print(\"Primary Component: \" + str(pcaModel.pc))"
   ]
  },
  {
   "cell_type": "markdown",
   "metadata": {},
   "source": [
    "可以看出，PCA最优的维数是6。"
   ]
  }
 ],
 "metadata": {
  "kernelspec": {
   "display_name": "Python [conda env:myspark]",
   "language": "python",
   "name": "conda-env-myspark-py"
  },
  "language_info": {
   "codemirror_mode": {
    "name": "ipython",
    "version": 3
   },
   "file_extension": ".py",
   "mimetype": "text/x-python",
   "name": "python",
   "nbconvert_exporter": "python",
   "pygments_lexer": "ipython3",
   "version": "3.6.12"
  }
 },
 "nbformat": 4,
 "nbformat_minor": 2
}
