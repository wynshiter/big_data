{
 "cells": [
  {
   "cell_type": "code",
   "execution_count": 1,
   "metadata": {},
   "outputs": [
    {
     "data": {
      "text/html": [
       "<style>.container { width:100% !important; }</style>"
      ],
      "text/plain": [
       "<IPython.core.display.HTML object>"
      ]
     },
     "metadata": {},
     "output_type": "display_data"
    }
   ],
   "source": [
    "import json\n",
    "import math\n",
    "import numbers\n",
    "import numpy as np\n",
    "import pandas as pd\n",
    "\n",
    "import sys\n",
    "\n",
    "%load_ext autoreload\n",
    "%autoreload 2\n",
    "\n",
    "\n",
    "from IPython.core.display import display, HTML\n",
    "display(HTML(\"<style>.container { width:100% !important; }</style>\"))\n",
    "# set up display area to show dataframe in jupyter qtconsole\n",
    "\n",
    "import matplotlib\n",
    "%matplotlib inline\n",
    "\n",
    "\n",
    "import matplotlib.pyplot as plt\n",
    "\n",
    "\n",
    "pd.set_option('max_columns',1000) \n",
    "pd.set_option('max_row',300) \n",
    "pd.set_option('display.float_format', lambda x: '%.5f' % x)"
   ]
  },
  {
   "cell_type": "code",
   "execution_count": 4,
   "metadata": {},
   "outputs": [],
   "source": [
    "测试数据 = '测试数据20200410.xlsx'\n",
    "测试数据_pdf = pd.read_excel(测试数据,dtype=object)"
   ]
  },
  {
   "cell_type": "code",
   "execution_count": 6,
   "metadata": {},
   "outputs": [
    {
     "data": {
      "text/html": [
       "<div>\n",
       "<style scoped>\n",
       "    .dataframe tbody tr th:only-of-type {\n",
       "        vertical-align: middle;\n",
       "    }\n",
       "\n",
       "    .dataframe tbody tr th {\n",
       "        vertical-align: top;\n",
       "    }\n",
       "\n",
       "    .dataframe thead th {\n",
       "        text-align: right;\n",
       "    }\n",
       "</style>\n",
       "<table border=\"1\" class=\"dataframe\">\n",
       "  <thead>\n",
       "    <tr style=\"text-align: right;\">\n",
       "      <th></th>\n",
       "      <th>序号</th>\n",
       "      <th>住院流水号</th>\n",
       "      <th>诊断编码(ICD编码)</th>\n",
       "      <th>诊断名称</th>\n",
       "      <th>出院小结</th>\n",
       "      <th>医院科室</th>\n",
       "      <th>入院日期</th>\n",
       "      <th>出院日期</th>\n",
       "      <th>实际住院天数</th>\n",
       "      <th>基金支付金额</th>\n",
       "      <th>总费用</th>\n",
       "    </tr>\n",
       "  </thead>\n",
       "  <tbody>\n",
       "    <tr>\n",
       "      <th>0</th>\n",
       "      <td>1</td>\n",
       "      <td>4</td>\n",
       "      <td>I60.900</td>\n",
       "      <td>蛛网膜下腔出血</td>\n",
       "      <td>姓名：xxx\\n性别：男\\n年龄：45\\n入院情况:(症状、查体) 患者以“ 反复头痛8月余”为主诉入院，\\n专科情况:神志清楚，对答正常，颈软，双侧瞳孔等大等圆，对光反射灵敏，生理反射存在，病理征未引出。\\n入院诊断：蛛网膜下腔出血。\\n出院诊断：蛛网膜下腔出血。\\n主要治疗经过: 入院后完善相关检查，进一步排除动脉瘤、血管畸形等病因，目前脑动脉造影未发现异常，暂无特殊处理。建议进一步完善颅脑SWI等检查寻找出血的病因。\\n患者及其家属表示理解，并要求出院，予以办理。\\n主要检查结果: (2018-05-22 12:32:44)急诊血常规+网织+CRP:正常;(2018-05-22 ...</td>\n",
       "      <td>神经外科</td>\n",
       "      <td>2018-05-22</td>\n",
       "      <td>2018-05-24</td>\n",
       "      <td>2</td>\n",
       "      <td>5793.94000</td>\n",
       "      <td>8594.65000</td>\n",
       "    </tr>\n",
       "    <tr>\n",
       "      <th>1</th>\n",
       "      <td>2</td>\n",
       "      <td>5</td>\n",
       "      <td>I05.200</td>\n",
       "      <td>风湿性二尖瓣狭窄伴关闭不全</td>\n",
       "      <td>入院情况：主诉： 头面部外伤伴头晕2天、恶心半天。   。5年前有“脑梗死”病史，现遗留左侧肢体偏瘫。否认“高血压、糖尿病”病史，。查体:体温:36.6℃  脉搏: 134次/分  呼吸:21次/分  血压:98/74mmHg。 {体格检查} 。专科情况:T: 36.6 ℃ P: 134 次/分 R: 21 次/分 BP: 98/74 mmHg。神清，慢性面容，眼结膜下可见出血，颜面部及下颌皮下瘀斑。双肺呼吸音清，双肺未闻及湿性啰音；心率148次/分，心律绝对不齐，心音强弱不一，脉搏短绌，二尖瓣区可闻及舒张期隆隆样杂音，余瓣膜听诊区未闻及病理性杂音，左上肢肌力3级，呈内收畸形，左下肢肌...</td>\n",
       "      <td>神经外科病</td>\n",
       "      <td>2018-05-09</td>\n",
       "      <td>2018-05-17</td>\n",
       "      <td>8</td>\n",
       "      <td>4994.23000</td>\n",
       "      <td>8685.88000</td>\n",
       "    </tr>\n",
       "    <tr>\n",
       "      <th>2</th>\n",
       "      <td>3</td>\n",
       "      <td>6</td>\n",
       "      <td>G93.501</td>\n",
       "      <td>脑疝</td>\n",
       "      <td>入院情况: 患者以“突发左侧肢体乏力1月余”为主诉入院，专科情况:神志浅昏迷，双侧瞳孔不等大，左侧瞳孔D</td>\n",
       "      <td>神经外科</td>\n",
       "      <td>2018-05-15</td>\n",
       "      <td>2018-05-31</td>\n",
       "      <td>16</td>\n",
       "      <td>0</td>\n",
       "      <td>18022.71000</td>\n",
       "    </tr>\n",
       "  </tbody>\n",
       "</table>\n",
       "</div>"
      ],
      "text/plain": [
       "  序号 住院流水号 诊断编码(ICD编码)           诊断名称  \\\n",
       "0  1     4     I60.900        蛛网膜下腔出血   \n",
       "1  2     5     I05.200  风湿性二尖瓣狭窄伴关闭不全   \n",
       "2  3     6     G93.501             脑疝   \n",
       "\n",
       "                                                                                                                                                                                                                                                                                                          出院小结  \\\n",
       "0  姓名：xxx\\n性别：男\\n年龄：45\\n入院情况:(症状、查体) 患者以“ 反复头痛8月余”为主诉入院，\\n专科情况:神志清楚，对答正常，颈软，双侧瞳孔等大等圆，对光反射灵敏，生理反射存在，病理征未引出。\\n入院诊断：蛛网膜下腔出血。\\n出院诊断：蛛网膜下腔出血。\\n主要治疗经过: 入院后完善相关检查，进一步排除动脉瘤、血管畸形等病因，目前脑动脉造影未发现异常，暂无特殊处理。建议进一步完善颅脑SWI等检查寻找出血的病因。\\n患者及其家属表示理解，并要求出院，予以办理。\\n主要检查结果: (2018-05-22 12:32:44)急诊血常规+网织+CRP:正常;(2018-05-22 ...   \n",
       "1  入院情况：主诉： 头面部外伤伴头晕2天、恶心半天。   。5年前有“脑梗死”病史，现遗留左侧肢体偏瘫。否认“高血压、糖尿病”病史，。查体:体温:36.6℃  脉搏: 134次/分  呼吸:21次/分  血压:98/74mmHg。 {体格检查} 。专科情况:T: 36.6 ℃ P: 134 次/分 R: 21 次/分 BP: 98/74 mmHg。神清，慢性面容，眼结膜下可见出血，颜面部及下颌皮下瘀斑。双肺呼吸音清，双肺未闻及湿性啰音；心率148次/分，心律绝对不齐，心音强弱不一，脉搏短绌，二尖瓣区可闻及舒张期隆隆样杂音，余瓣膜听诊区未闻及病理性杂音，左上肢肌力3级，呈内收畸形，左下肢肌...   \n",
       "2                                                                                                                                                                                                                                                         入院情况: 患者以“突发左侧肢体乏力1月余”为主诉入院，专科情况:神志浅昏迷，双侧瞳孔不等大，左侧瞳孔D   \n",
       "\n",
       "    医院科室       入院日期       出院日期 实际住院天数     基金支付金额         总费用  \n",
       "0   神经外科 2018-05-22 2018-05-24      2 5793.94000  8594.65000  \n",
       "1  神经外科病 2018-05-09 2018-05-17      8 4994.23000  8685.88000  \n",
       "2   神经外科 2018-05-15 2018-05-31     16          0 18022.71000  "
      ]
     },
     "execution_count": 6,
     "metadata": {},
     "output_type": "execute_result"
    }
   ],
   "source": [
    "#设置value的显示长度为100，默认为50\n",
    "pd.set_option('max_colwidth',300)\n",
    "测试数据_pdf"
   ]
  },
  {
   "cell_type": "code",
   "execution_count": null,
   "metadata": {},
   "outputs": [],
   "source": [
    "# 删除不需要的列\n",
    "medicalTest_Delete_list= [\"序号\"]\n",
    "\n",
    "medicalTest_str_list = [\n",
    "\"诊断编码(ICD编码)\"\n",
    ",\"诊断名称\"\n",
    ",\"出院小结\"\n",
    ",\"出院小结\"\n",
    ",\"医院科室\"]\n",
    "\n",
    "medicalTest_IntegerType_list = [\"序号\",\"实际住院天数\"]\n",
    "\n",
    "medicalTest_category_list = [\"诊断编码(ICD编码)\",\"诊断名称\",\"医院科室\"]\n",
    "\n",
    "medicalTest_FloatType_list = [\"基金支付金额\",\"总金额\"]\n",
    "medicalTest_DateType_list = [\"入院日期\",\"出院日期\"]"
   ]
  },
  {
   "cell_type": "code",
   "execution_count": null,
   "metadata": {},
   "outputs": [],
   "source": [
    "## 修改列类型\n",
    "def change_dtypes(col_int, col_float, col_str,df): \n",
    "    '''\n",
    "    AIM    -> Changing dtypes to save memory\n",
    "\n",
    "    INPUT  -> List of column names (int, float,str), df\n",
    "\n",
    "    OUTPUT -> updated df with smaller memory  \n",
    "    ------\n",
    "    '''\n",
    "    \n",
    "    df[col_int] = df[col_int].astype(\"Float32\").astype(\"Int32\")\n",
    "    df[col_float] = df[col_float].astype('float32')\n",
    "    df[col_str] = df[col_str].astype('str')\n",
    "\n",
    "# 删除不要的列    \n",
    "def drop_multiple_col(col_names_list, df): \n",
    "    '''\n",
    "    AIM    -> Drop multiple columns based on their column names \n",
    "\n",
    "    INPUT  -> List of column names, df\n",
    "\n",
    "    OUTPUT -> updated df with dropped columns \n",
    "    ------\n",
    "    '''\n",
    "    df.drop(col_names_list, axis=1, inplace=True)\n",
    "    return df\n"
   ]
  },
  {
   "cell_type": "code",
   "execution_count": null,
   "metadata": {},
   "outputs": [],
   "source": []
  },
  {
   "cell_type": "code",
   "execution_count": null,
   "metadata": {},
   "outputs": [],
   "source": []
  }
 ],
 "metadata": {
  "kernelspec": {
   "display_name": "Python [conda env:DATABASE]",
   "language": "python",
   "name": "conda-env-DATABASE-py"
  },
  "language_info": {
   "codemirror_mode": {
    "name": "ipython",
    "version": 3
   },
   "file_extension": ".py",
   "mimetype": "text/x-python",
   "name": "python",
   "nbconvert_exporter": "python",
   "pygments_lexer": "ipython3",
   "version": "3.7.3"
  },
  "toc": {
   "base_numbering": 1,
   "nav_menu": {},
   "number_sections": true,
   "sideBar": true,
   "skip_h1_title": false,
   "title_cell": "Table of Contents",
   "title_sidebar": "Contents",
   "toc_cell": false,
   "toc_position": {},
   "toc_section_display": true,
   "toc_window_display": false
  }
 },
 "nbformat": 4,
 "nbformat_minor": 2
}
